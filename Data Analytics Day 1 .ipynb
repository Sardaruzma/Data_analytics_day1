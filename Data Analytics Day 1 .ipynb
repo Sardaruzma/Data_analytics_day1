{
 "cells": [
  {
   "cell_type": "markdown",
   "id": "636f67ac",
   "metadata": {},
   "source": [
    "### Social Media Analytics: If you were tasked with analyzing social media data, how could you use lists in Python to gather information such as the number of likes, comments, and shares for different posts? How might you structure this data for easy analysis and reporting? "
   ]
  },
  {
   "cell_type": "code",
   "execution_count": 1,
   "id": "66e65462",
   "metadata": {
    "scrolled": true
   },
   "outputs": [
    {
     "name": "stdout",
     "output_type": "stream",
     "text": [
      "Total likes: 850\n",
      "Total comments: 160\n",
      "Total shares: 62\n",
      "\n",
      "Post with the highest engagement:\n",
      "Post ID: 3\n",
      "Likes: 300, Comments: 50, Shares: 20\n"
     ]
    }
   ],
   "source": [
    "# Sample data representing posts with their likes, comments, and shares\n",
    "social_media_data = [\n",
    "    {\"post_id\": 1, \"likes\": 120, \"comments\": 25, \"shares\": 10},\n",
    "    {\"post_id\": 2, \"likes\": 80, \"comments\": 10, \"shares\": 5},\n",
    "    {\"post_id\": 3, \"likes\": 300, \"comments\": 50, \"shares\": 20},\n",
    "    {\"post_id\": 4, \"likes\": 150, \"comments\": 30, \"shares\": 15},\n",
    "    {\"post_id\": 5, \"likes\": 200, \"comments\": 45, \"shares\": 12}\n",
    "]\n",
    "\n",
    "# Function to calculate total likes, comments, and shares for all posts\n",
    "def calculate_total_engagement(data):\n",
    "    total_likes = sum(post.get(\"likes\", 0) for post in data)\n",
    "    total_comments = sum(post.get(\"comments\", 0) for post in data)\n",
    "    total_shares = sum(post.get(\"shares\", 0) for post in data)\n",
    "    return total_likes, total_comments, total_shares\n",
    "\n",
    "# Function to find the post with the highest engagement\n",
    "def find_most_engaging_post(data):\n",
    "    most_engaging_post = max(data, key=lambda x: x.get(\"likes\") + x.get(\"comments\") + x.get(\"shares\"))\n",
    "    return most_engaging_post\n",
    "\n",
    "# Display total engagement and the most engaging post\n",
    "total_likes, total_comments, total_shares = calculate_total_engagement(social_media_data)\n",
    "most_engaging = find_most_engaging_post(social_media_data)\n",
    "\n",
    "print(f\"Total likes: {total_likes}\")\n",
    "print(f\"Total comments: {total_comments}\")\n",
    "print(f\"Total shares: {total_shares}\")\n",
    "\n",
    "print(\"\\nPost with the highest engagement:\")\n",
    "print(f\"Post ID: {most_engaging['post_id']}\")\n",
    "print(f\"Likes: {most_engaging['likes']}, Comments: {most_engaging['comments']}, Shares: {most_engaging['shares']}\")"
   ]
  },
  {
   "attachments": {},
   "cell_type": "markdown",
   "id": "9ec8790a",
   "metadata": {},
   "source": [
    "### Weather Data Analysis: In a weather monitoring system, how could you use Python lists to store daily temperature data for a particular location? How might you perform tasks like finding the average temperature, identifying the hottest or coldest days, or tracking temperature changes over time?"
   ]
  },
  {
   "cell_type": "code",
   "execution_count": null,
   "id": "d01996fc",
   "metadata": {},
   "outputs": [],
   "source": [
    "# Sample daily temperature data for a location (in Celsius)\n",
    "daily_temperatures = [22, 24, 25, 20, 18, 23, 26, 27, 29, 28, 25, 21, 19, 20, 24, 26, 28, 30, 29, 27, 25, 23]\n",
    "\n",
    "# Calculate the average temperature\n",
    "average_temperature = sum(daily_temperatures) / len(daily_temperatures)\n",
    "\n",
    "# Find the hottest and coldest days\n",
    "hottest_day = max(daily_temperatures)\n",
    "coldest_day = min(daily_temperatures)\n",
    "\n",
    "# Track temperature changes over time\n",
    "temperature_changes = [daily_temperatures[i + 1] - daily_temperatures[i] for i in range(len(daily_temperatures) - 1)]\n",
    "\n",
    "# Output results\n",
    "print(f\"Average temperature: {average_temperature:.2f} °C\")\n",
    "print(f\"Hottest day: {hottest_day} °C\")\n",
    "print(f\"Coldest day: {coldest_day} °C\")\n",
    "print(f\"Temperature changes over time: {temperature_changes}\")"
   ]
  },
  {
   "cell_type": "markdown",
   "id": "64874875",
   "metadata": {},
   "source": [
    "### in a smart home system, conditional statements are used extensively. For instance, when programming a smart thermostat, you might have code that adjusts the temperature based on various conditions. If the room temperature is above a certain level, the air conditioning turns on. If it's below a certain level, the heating system kicks in. This involves conditional checks based on temperature sensors."
   ]
  },
  {
   "cell_type": "code",
   "execution_count": 3,
   "id": "ab1e1352",
   "metadata": {},
   "outputs": [
    {
     "name": "stdout",
     "output_type": "stream",
     "text": [
      "Room temperature is within the comfortable range.\n"
     ]
    }
   ],
   "source": [
    "# Simulated room temperature\n",
    "room_temperature = 25  # Replace this value with actual sensor data\n",
    "\n",
    "# Define temperature thresholds for cooling and heating\n",
    "cooling_threshold = 28\n",
    "heating_threshold = 20\n",
    "\n",
    "# Smart thermostat conditional control\n",
    "if room_temperature > cooling_threshold:\n",
    "    print(\"Room temperature is high. Turning on the air conditioning.\")\n",
    "    # Code to activate the air conditioning system\n",
    "\n",
    "elif room_temperature < heating_threshold:\n",
    "    print(\"Room temperature is low. Turning on the heating system.\")\n",
    "    # Code to activate the heating system\n",
    "\n",
    "else:\n",
    "    print(\"Room temperature is within the comfortable range.\")\n",
    "    # No action needed or maintain the current state"
   ]
  },
  {
   "cell_type": "markdown",
   "id": "2b63e1db",
   "metadata": {},
   "source": [
    "### n healthcare, decision support systems might use conditional logic to provide recommendations or alerts. For instance, a system might use if-else conditions to analyze a patient's vital signs and trigger alerts if certain parameters are outside the normal range, guiding healthcare professionals to take appropriate actions."
   ]
  },
  {
   "cell_type": "code",
   "execution_count": 4,
   "id": "7a3a4682",
   "metadata": {},
   "outputs": [
    {
     "name": "stdout",
     "output_type": "stream",
     "text": [
      "Alert: Patient's temperature is outside the normal range.\n"
     ]
    }
   ],
   "source": [
    "# Simulated patient vital signs\n",
    "patient_temperature = 38.5  # Body temperature in Celsius\n",
    "patient_heart_rate = 90    # Heart rate in beats per minute\n",
    "\n",
    "# Define normal range for vital signs\n",
    "normal_temperature_range = (36.1, 37.2)  # Normal body temperature range\n",
    "normal_heart_rate_range = (60, 100)      # Normal heart rate range\n",
    "\n",
    "# Decision support system based on vital signs\n",
    "if not (normal_temperature_range[0] <= patient_temperature <= normal_temperature_range[1]):\n",
    "    print(\"Alert: Patient's temperature is outside the normal range.\")\n",
    "    # Code to trigger an alert for healthcare professionals\n",
    "\n",
    "if not (normal_heart_rate_range[0] <= patient_heart_rate <= normal_heart_rate_range[1]):\n",
    "    print(\"Alert: Patient's heart rate is outside the normal range.\")\n",
    "    # Code to trigger an alert for healthcare professionals"
   ]
  },
  {
   "cell_type": "code",
   "execution_count": null,
   "id": "ddfa66ed",
   "metadata": {},
   "outputs": [],
   "source": []
  }
 ],
 "metadata": {
  "kernelspec": {
   "display_name": "Python 3 (ipykernel)",
   "language": "python",
   "name": "python3"
  },
  "language_info": {
   "codemirror_mode": {
    "name": "ipython",
    "version": 3
   },
   "file_extension": ".py",
   "mimetype": "text/x-python",
   "name": "python",
   "nbconvert_exporter": "python",
   "pygments_lexer": "ipython3",
   "version": "3.11.4"
  }
 },
 "nbformat": 4,
 "nbformat_minor": 5
}
